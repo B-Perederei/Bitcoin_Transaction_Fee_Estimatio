{
 "cells": [
  {
   "attachments": {},
   "cell_type": "markdown",
   "metadata": {},
   "source": [
    "FEE TRANSACTION PREDICTION IN BLOCKS, Perederei Bohdan KM-03"
   ]
  },
  {
   "attachments": {},
   "cell_type": "markdown",
   "metadata": {},
   "source": [
    "\n",
    "NOTES\n",
    "Потрібно подумати щодо останнього блоку, якщо блок тільки з'явився, то для генерації краще брати старий мемпул до генерації блоку, якщо вже певний час пройшов, то новий\n",
    "\n",
    "Спочатку краще не заморочуватися, а потім вже додати можливість вибирати старий чи новий блок. Зараз краще зробити можелювання даного блоку, а час для збирання статистики для моделювання краще брати як відстань від останнього блоку"
   ]
  },
  {
   "cell_type": "markdown",
   "metadata": {},
   "source": [
    "1) Preparing mempool"
   ]
  },
  {
   "cell_type": "code",
   "execution_count": 5,
   "metadata": {},
   "outputs": [
    {
     "name": "stdout",
     "output_type": "stream",
     "text": [
      "3102\n",
      "1700\n"
     ]
    }
   ],
   "source": [
    "import requests\n",
    "import json\n",
    "import time\n",
    "\n",
    "NODE_URL = 'https://responsive-frosty-tent.bcoin.discover.quiknode.pro/67427eeafaf13fedc399dc5b124246ffce77033a/'\n",
    "\n",
    "response = requests.get(\"https://mempool.space/api/block/\" + requests.get(\"https://mempool.space/api/blocks/tip/hash\").text)\n",
    "response = response.json()\n",
    "LAST_BLOCK_TIME = response.get(\"timestamp\")\n",
    "\n",
    "MAX_AGE_FOR_TRANSACTION = (int(time.time()) - LAST_BLOCK_TIME) # In seconds\n",
    "\n",
    "'''\n",
    "Getting age for transcatcions\n",
    "'''\n",
    "\n",
    "class Transaction:\n",
    "    def __init__(self, fee, size, time):\n",
    "        self.fee = fee\n",
    "        self.size = size\n",
    "        self.time = time\n",
    "    \n",
    "    def __repr__(self):\n",
    "        return f\"Transaction({self.fee}, {self.size}, {self.time})\"\n",
    "    def __str__(self):\n",
    "        return str(self.fee) + str(self.size) + str(self.time)\n",
    "\n",
    "'''\n",
    "Downloading mempool and saving it\n",
    "'''\n",
    "headers = {\n",
    "        'content-type': 'application/json',\n",
    "    }\n",
    "data = '{\"jsonrpc\": \"1.0\", \"id\": \"curltest\", \"method\": \"getrawmempool\", \"params\": [true]}'\n",
    "response = requests.post(NODE_URL, headers=headers, data=data)\n",
    "\n",
    "with open('mempool' + '.json', 'w', encoding='utf-8') as f:\n",
    "            json.dump(response.json(), f, ensure_ascii=False, indent=4)\n",
    "mempool = json.load(open('mempool.json'))\n",
    "\n",
    "'''\n",
    "Importing mempool and sorting it\n",
    "'''\n",
    "mempool = list()\n",
    "json_mempool = response.json().get('result')\n",
    "for tx in json_mempool:\n",
    "    tx = json_mempool.get(tx)\n",
    "    mempool.append(Transaction(tx.get(\"fee\"), tx.get(\"size\"), tx.get(\"time\")))\n",
    "mempool.sort(key = lambda tx: tx.time, reverse=True)\n",
    "\n",
    "'''\n",
    "Building transaction set for random process\n",
    "'''\n",
    "transactionListForGeneration = list()\n",
    "for tx in mempool:\n",
    "    if tx.time < mempool[0].time - MAX_AGE_FOR_TRANSACTION:\n",
    "        break\n",
    "    transactionListForGeneration.append(tx)\n",
    "\n",
    "print(len(mempool))\n",
    "print(len(transactionListForGeneration))"
   ]
  },
  {
   "cell_type": "markdown",
   "metadata": {},
   "source": [
    "2) Getting set for generating N number of transactions every BUCKET_TIME seconds"
   ]
  },
  {
   "cell_type": "code",
   "execution_count": 6,
   "metadata": {},
   "outputs": [
    {
     "name": "stdout",
     "output_type": "stream",
     "text": [
      "[22, 5, 5, 5, 12, 11, 6, 7, 7, 18, 6, 6, 9, 13, 10, 4, 8, 10, 8, 8, 4, 6, 17, 10, 9, 6, 9, 3, 12, 9, 9, 16, 9, 1, 13, 15, 12, 1, 11, 5, 5, 11, 13, 5, 1, 9, 11, 16, 8, 12, 10, 16, 3, 8, 9, 7, 11, 2, 15, 10, 9, 8, 12, 8, 15, 2, 18, 8, 17, 3, 13, 3, 15, 27, 23, 1, 10, 4, 18, 8, 3, 15, 6, 16, 6, 10, 8, 3, 13, 11, 5, 8, 13, 6, 9, 18, 24, 11, 6, 6, 15, 5, 8, 7, 10, 7, 5, 18, 9, 5, 14, 7, 10, 11, 7, 24, 14, 1, 17, 14, 12, 15, 6, 11, 7, 6, 12, 4, 13, 5, 12, 10, 4, 26, 10, 22, 10, 2, 16, 12, 5, 4, 7, 14, 9, 18, 7, 12, 2, 11, 7, 13, 11, 7, 11, 6, 7, 17, 20, 14, 14, 3, 15, 7, 13, 10, 9, 6, 13, 12, 7, 5]\n",
      "172\n"
     ]
    }
   ],
   "source": [
    "BUCKET_TIME = 5 # In seconds\n",
    "NumberOfTransactionsEachInterval = list()\n",
    "\n",
    "currentTransaction = 0\n",
    "for tx in mempool:\n",
    "    if tx.time < mempool[0].time - MAX_AGE_FOR_TRANSACTION:\n",
    "        break\n",
    "    \n",
    "    if tx.time < mempool[0].time - (len(NumberOfTransactionsEachInterval) + 1)*BUCKET_TIME:\n",
    "        NumberOfTransactionsEachInterval.append(currentTransaction)\n",
    "        currentTransaction = 0\n",
    "    \n",
    "    currentTransaction += 1\n",
    "print(NumberOfTransactionsEachInterval)\n",
    "print(len(NumberOfTransactionsEachInterval))\n"
   ]
  },
  {
   "cell_type": "markdown",
   "metadata": {},
   "source": [
    "2) Getting probabilty of block appearing each second"
   ]
  },
  {
   "cell_type": "code",
   "execution_count": 7,
   "metadata": {},
   "outputs": [
    {
     "name": "stdout",
     "output_type": "stream",
     "text": [
      "0.0018420445013144053\n"
     ]
    }
   ],
   "source": [
    "import requests\n",
    "import json\n",
    "import random\n",
    "\n",
    "URL_HASHRATE = \"https://mempool.space/api/v1/mining/hashrate/3d\"\n",
    "URL_PROBABILITY = \"https://blockchain.info/q/probability\"\n",
    "\n",
    "hashrate = int(requests.get(URL_HASHRATE).json().get(\"currentHashrate\"))\n",
    "mining_probabilty = float(requests.get(URL_PROBABILITY).text)\n",
    "probabiltyOfBlockMining = hashrate * mining_probabilty # Every second\n",
    "print(probabiltyOfBlockMining)\n"
   ]
  },
  {
   "cell_type": "markdown",
   "metadata": {},
   "source": [
    "MODELING"
   ]
  },
  {
   "cell_type": "code",
   "execution_count": 8,
   "metadata": {},
   "outputs": [
    {
     "name": "stdout",
     "output_type": "stream",
     "text": [
      "[105, 465, 835, 45, 145]\n",
      "[Transaction(0.00020598, 9725, 1670826417)]\n",
      "2.118046272493573\n",
      "[Transaction(0.0003098, 28085, 1670823279)]\n",
      "1.1030799359088481\n",
      "[Transaction(2.23e-06, 403, 1670709351)]\n",
      "0.553349875930521\n",
      "[Transaction(1.66e-06, 166, 1670829077)]\n",
      "1.0\n",
      "[Transaction(1.33e-06, 133, 1670828583)]\n",
      "1.0\n"
     ]
    }
   ],
   "source": [
    "import random\n",
    "# Getting time of last block\n",
    "# lastBlockTime = \n",
    "NUMBER_OF_BLOCKS = 5\n",
    "TIME_INTERVAL_BLOCK_APPEARING = 5\n",
    "MAX_BLOCK_SIZE = 1000000\n",
    "\n",
    "MEMPOOL = mempool.copy()\n",
    "TRANSACTIONS_SET = transactionListForGeneration.copy()\n",
    "TRANSACTION_FREQUENCY_SET = NumberOfTransactionsEachInterval.copy()\n",
    "\n",
    "class Block:\n",
    "    def __init__(self, transactions):\n",
    "        self.transactions = transactions\n",
    "    \n",
    "\n",
    "def getBlocksTimeAppearing():\n",
    "    timeOfBlocks = list()\n",
    "    probabilityEveryInterval = probabiltyOfBlockMining * TIME_INTERVAL_BLOCK_APPEARING\n",
    "    for i in range(0, NUMBER_OF_BLOCKS):\n",
    "        time = 0\n",
    "        while probabilityEveryInterval < random.uniform(0, 1):\n",
    "            time += TIME_INTERVAL_BLOCK_APPEARING\n",
    "        timeOfBlocks.append(time)\n",
    "    \n",
    "    if timeOfBlocks[0] - MAX_AGE_FOR_TRANSACTION > 0:\n",
    "         timeOfBlocks[0] -= MAX_AGE_FOR_TRANSACTION\n",
    "    \n",
    "    return timeOfBlocks\n",
    "\n",
    "def runGeneration():\n",
    "    MEMPOOL = mempool.copy()\n",
    "\n",
    "    timeOfBlocksAppearing = getBlocksTimeAppearing()\n",
    "    print(getBlocksTimeAppearing())\n",
    "    blocks = list()\n",
    "\n",
    "    for blockTime in timeOfBlocksAppearing:\n",
    "        \n",
    "        # Generating new transactions before block appears\n",
    "        numberOfTransactionGenerations = int(blockTime / BUCKET_TIME)\n",
    "        for generation in range(0, numberOfTransactionGenerations):\n",
    "\n",
    "            for transaction in range(0, random.choice(TRANSACTION_FREQUENCY_SET)):\n",
    "                tx = random.choice(TRANSACTIONS_SET)\n",
    "                # TODO: calculate new time of transaction\n",
    "                MEMPOOL.append(Transaction(tx.fee, tx.size, tx.time))\n",
    "\n",
    "        # Sorting mempool\n",
    "        MEMPOOL.sort(key=lambda tx: (tx.fee/tx.size, tx.size), reverse=True)\n",
    "\n",
    "        current_size = 0\n",
    "        txs = 0\n",
    "        while current_size < MAX_BLOCK_SIZE and txs < len(MEMPOOL):\n",
    "            current_size += MEMPOOL[txs].size\n",
    "            txs += 1\n",
    "\n",
    "        blocks.append(Block(MEMPOOL[:txs]))\n",
    "        MEMPOOL = MEMPOOL[txs:]\n",
    "\n",
    "    return blocks\n",
    "\n",
    "for block in runGeneration():\n",
    "    txs = block.transactions\n",
    "    # Getting transaction with lowest fee in block\n",
    "    print(txs[len(txs)-1:])\n",
    "    print((txs[len(txs)-1].fee / txs[len(txs)-1].size) * 10**(8))"
   ]
  }
 ],
 "metadata": {
  "kernelspec": {
   "display_name": "Python 3.10.0 64-bit",
   "language": "python",
   "name": "python3"
  },
  "language_info": {
   "codemirror_mode": {
    "name": "ipython",
    "version": 3
   },
   "file_extension": ".py",
   "mimetype": "text/x-python",
   "name": "python",
   "nbconvert_exporter": "python",
   "pygments_lexer": "ipython3",
   "version": "3.10.0"
  },
  "orig_nbformat": 4,
  "vscode": {
   "interpreter": {
    "hash": "af359e8238ec73e3ce6d00f960c04c3ffaf3d6416f3507510ffbe321abc5fc23"
   }
  }
 },
 "nbformat": 4,
 "nbformat_minor": 2
}
